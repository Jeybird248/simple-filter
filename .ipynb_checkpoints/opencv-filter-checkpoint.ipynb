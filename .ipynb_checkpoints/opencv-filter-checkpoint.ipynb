{
 "cells": [
  {
   "cell_type": "markdown",
   "id": "57c472b7",
   "metadata": {},
   "source": [
    "> pip install mediapipe\n"
   ]
  },
  {
   "cell_type": "code",
   "execution_count": 4,
   "id": "48da6af1",
   "metadata": {},
   "outputs": [],
   "source": [
    "import cv2\n",
    "import mediapipe as mp\n",
    "\n",
    "def overlay(image, x, y, w, h, overlay_image):\n",
    "    alpha = overlay_image[:, :, 3]\n",
    "    mask_image = alpha / 255\n",
    "    for c in range(0,3):\n",
    "        image[y-h:y+h, x-w:x+w, c] = (overlay_image[:,:,c] * mask_image) + (image[y-h:y+h, x-w:x+w, c] * (1-mask_image))\n",
    "        \n",
    "mp_face_detection = mp.solutions.face_detection\n",
    "mp_drawing = mp.solutions.drawing_utils\n",
    "\n",
    "cap = cv2.VideoCapture(\"man.mp4\")\n",
    "\n",
    "image_right_eye = cv2.imread(\"right_eye.png\", cv2.IMREAD_UNCHANGED)\n",
    "image_left_eye = cv2.imread(\"left_eye.png\", cv2.IMREAD_UNCHANGED)\n",
    "image_nose = cv2.imread(\"nose.png\", cv2.IMREAD_UNCHANGED)\n",
    "\n",
    "with mp_face_detection.FaceDetection(model_selection=1, min_detection_confidence=0.99) as face_detection:\n",
    "    while cap.isOpened():\n",
    "        success, image = cap.read()\n",
    "        if not success:\n",
    "            print(\"Ignoring empty camera frame.\")\n",
    "            # If loading a video, use 'break' instead of 'continue'.\n",
    "            break\n",
    "\n",
    "        # To improve perfo+mance, optionally mark the image as not writeable to\n",
    "        # pass by reference.\n",
    "        image.flags.writeable = False\n",
    "        image = cv2.cvtColor(image, cv2.COLOR_BGR2RGB)\n",
    "        results = face_detection.process(image)\n",
    "\n",
    "        # Draw the face detection annotations on the image.\n",
    "        image.flags.writeable = True\n",
    "        image = cv2.cvtColor(image, cv2.COLOR_RGB2BGR)\n",
    "        \n",
    "        if results.detections:\n",
    "            for detection in results.detections:                \n",
    "                keypoints = detection.location_data.relative_keypoints\n",
    "                right_eye = keypoints[0]\n",
    "                left_eye = keypoints[1]\n",
    "                nose = keypoints[2]\n",
    "                \n",
    "                h, w, _ = image.shape \n",
    "                right_eye = (int(right_eye.x * w)-20, int(right_eye.y * h)-400)\n",
    "                left_eye = (int(left_eye.x * w)+20, int(left_eye.y * h)-400)\n",
    "                nose = (int(nose.x * w), int(nose.y * h))\n",
    "                \n",
    "                overlay(image, *right_eye, 100, 100, cv2.resize(image_right_eye, None, fx=2, fy= 2))\n",
    "                overlay(image, *left_eye, 100, 100, cv2.resize(image_left_eye, None, fx=2, fy= 2))\n",
    "                overlay(image, *nose, 300, 100, cv2.resize(image_nose, None, fx=2, fy= 2))\n",
    "                \n",
    "            cv2.imshow('MediaPipe Face Detection', cv2.resize(image, None, fx=0.25, fy=0.25))\n",
    "            if cv2.waitKey(5) == 27: # esc\n",
    "                break\n",
    "cap.release()\n",
    "cv2.destroyAllWindows()"
   ]
  },
  {
   "cell_type": "code",
   "execution_count": null,
   "id": "2912d1db",
   "metadata": {},
   "outputs": [],
   "source": []
  }
 ],
 "metadata": {
  "kernelspec": {
   "display_name": "Python 3 (ipykernel)",
   "language": "python",
   "name": "python3"
  },
  "language_info": {
   "codemirror_mode": {
    "name": "ipython",
    "version": 3
   },
   "file_extension": ".py",
   "mimetype": "text/x-python",
   "name": "python",
   "nbconvert_exporter": "python",
   "pygments_lexer": "ipython3",
   "version": "3.9.12"
  }
 },
 "nbformat": 4,
 "nbformat_minor": 5
}
