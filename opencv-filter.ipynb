{
 "cells": [
  {
   "cell_type": "markdown",
   "id": "57c472b7",
   "metadata": {},
   "source": [
    "> pip install mediapipe\n"
   ]
  },
  {
   "cell_type": "code",
   "execution_count": 1,
   "id": "48da6af1",
   "metadata": {},
   "outputs": [
    {
     "ename": "ValueError",
     "evalue": "operands could not be broadcast together with shapes (0,200) (200,200) ",
     "output_type": "error",
     "traceback": [
      "\u001b[1;31m---------------------------------------------------------------------------\u001b[0m",
      "\u001b[1;31mValueError\u001b[0m                                Traceback (most recent call last)",
      "Input \u001b[1;32mIn [1]\u001b[0m, in \u001b[0;36m<cell line: 19>\u001b[1;34m()\u001b[0m\n\u001b[0;32m     47\u001b[0m     nose \u001b[38;5;241m=\u001b[39m (\u001b[38;5;28mint\u001b[39m(nose\u001b[38;5;241m.\u001b[39mx \u001b[38;5;241m*\u001b[39m w), \u001b[38;5;28mint\u001b[39m(nose\u001b[38;5;241m.\u001b[39my \u001b[38;5;241m*\u001b[39m h))\n\u001b[0;32m     49\u001b[0m     overlay(image, \u001b[38;5;241m*\u001b[39mright_eye, \u001b[38;5;241m100\u001b[39m, \u001b[38;5;241m100\u001b[39m, cv2\u001b[38;5;241m.\u001b[39mresize(image_right_eye, \u001b[38;5;28;01mNone\u001b[39;00m, fx\u001b[38;5;241m=\u001b[39m\u001b[38;5;241m2\u001b[39m, fy\u001b[38;5;241m=\u001b[39m \u001b[38;5;241m2\u001b[39m))\n\u001b[1;32m---> 50\u001b[0m     \u001b[43moverlay\u001b[49m\u001b[43m(\u001b[49m\u001b[43mimage\u001b[49m\u001b[43m,\u001b[49m\u001b[43m \u001b[49m\u001b[38;5;241;43m*\u001b[39;49m\u001b[43mleft_eye\u001b[49m\u001b[43m,\u001b[49m\u001b[43m \u001b[49m\u001b[38;5;241;43m100\u001b[39;49m\u001b[43m,\u001b[49m\u001b[43m \u001b[49m\u001b[38;5;241;43m100\u001b[39;49m\u001b[43m,\u001b[49m\u001b[43m \u001b[49m\u001b[43mcv2\u001b[49m\u001b[38;5;241;43m.\u001b[39;49m\u001b[43mresize\u001b[49m\u001b[43m(\u001b[49m\u001b[43mimage_left_eye\u001b[49m\u001b[43m,\u001b[49m\u001b[43m \u001b[49m\u001b[38;5;28;43;01mNone\u001b[39;49;00m\u001b[43m,\u001b[49m\u001b[43m \u001b[49m\u001b[43mfx\u001b[49m\u001b[38;5;241;43m=\u001b[39;49m\u001b[38;5;241;43m2\u001b[39;49m\u001b[43m,\u001b[49m\u001b[43m \u001b[49m\u001b[43mfy\u001b[49m\u001b[38;5;241;43m=\u001b[39;49m\u001b[43m \u001b[49m\u001b[38;5;241;43m2\u001b[39;49m\u001b[43m)\u001b[49m\u001b[43m)\u001b[49m\n\u001b[0;32m     51\u001b[0m     overlay(image, \u001b[38;5;241m*\u001b[39mnose, \u001b[38;5;241m300\u001b[39m, \u001b[38;5;241m100\u001b[39m, cv2\u001b[38;5;241m.\u001b[39mresize(image_nose, \u001b[38;5;28;01mNone\u001b[39;00m, fx\u001b[38;5;241m=\u001b[39m\u001b[38;5;241m2\u001b[39m, fy\u001b[38;5;241m=\u001b[39m \u001b[38;5;241m2\u001b[39m))\n\u001b[0;32m     53\u001b[0m cv2\u001b[38;5;241m.\u001b[39mimshow(\u001b[38;5;124m'\u001b[39m\u001b[38;5;124mMediaPipe Face Detection\u001b[39m\u001b[38;5;124m'\u001b[39m, cv2\u001b[38;5;241m.\u001b[39mresize(image, \u001b[38;5;28;01mNone\u001b[39;00m, fx\u001b[38;5;241m=\u001b[39m\u001b[38;5;241m0.25\u001b[39m, fy\u001b[38;5;241m=\u001b[39m\u001b[38;5;241m0.25\u001b[39m))\n",
      "Input \u001b[1;32mIn [1]\u001b[0m, in \u001b[0;36moverlay\u001b[1;34m(image, x, y, w, h, overlay_image)\u001b[0m\n\u001b[0;32m      6\u001b[0m mask_image \u001b[38;5;241m=\u001b[39m alpha \u001b[38;5;241m/\u001b[39m \u001b[38;5;241m255\u001b[39m\n\u001b[0;32m      7\u001b[0m \u001b[38;5;28;01mfor\u001b[39;00m c \u001b[38;5;129;01min\u001b[39;00m \u001b[38;5;28mrange\u001b[39m(\u001b[38;5;241m0\u001b[39m,\u001b[38;5;241m3\u001b[39m):\n\u001b[1;32m----> 8\u001b[0m     image[y\u001b[38;5;241m-\u001b[39mh:y\u001b[38;5;241m+\u001b[39mh, x\u001b[38;5;241m-\u001b[39mw:x\u001b[38;5;241m+\u001b[39mw, c] \u001b[38;5;241m=\u001b[39m (overlay_image[:,:,c] \u001b[38;5;241m*\u001b[39m mask_image) \u001b[38;5;241m+\u001b[39m (\u001b[43mimage\u001b[49m\u001b[43m[\u001b[49m\u001b[43my\u001b[49m\u001b[38;5;241;43m-\u001b[39;49m\u001b[43mh\u001b[49m\u001b[43m:\u001b[49m\u001b[43my\u001b[49m\u001b[38;5;241;43m+\u001b[39;49m\u001b[43mh\u001b[49m\u001b[43m,\u001b[49m\u001b[43m \u001b[49m\u001b[43mx\u001b[49m\u001b[38;5;241;43m-\u001b[39;49m\u001b[43mw\u001b[49m\u001b[43m:\u001b[49m\u001b[43mx\u001b[49m\u001b[38;5;241;43m+\u001b[39;49m\u001b[43mw\u001b[49m\u001b[43m,\u001b[49m\u001b[43m \u001b[49m\u001b[43mc\u001b[49m\u001b[43m]\u001b[49m\u001b[43m \u001b[49m\u001b[38;5;241;43m*\u001b[39;49m\u001b[43m \u001b[49m\u001b[43m(\u001b[49m\u001b[38;5;241;43m1\u001b[39;49m\u001b[38;5;241;43m-\u001b[39;49m\u001b[43mmask_image\u001b[49m\u001b[43m)\u001b[49m)\n",
      "\u001b[1;31mValueError\u001b[0m: operands could not be broadcast together with shapes (0,200) (200,200) "
     ]
    }
   ],
   "source": [
    "import cv2\n",
    "import mediapipe as mp\n",
    "\n",
    "def overlay(image, x, y, w, h, overlay_image):\n",
    "    alpha = overlay_image[:, :, 3]\n",
    "    mask_image = alpha / 255\n",
    "    for c in range(0,3):\n",
    "        image[y-h:y+h, x-w:x+w, c] = (overlay_image[:,:,c] * mask_image) + (image[y-h:y+h, x-w:x+w, c] * (1-mask_image))\n",
    "        \n",
    "mp_face_detection = mp.solutions.face_detection\n",
    "mp_drawing = mp.solutions.drawing_utils\n",
    "\n",
    "cap = cv2.VideoCapture(\"man.mp4\")\n",
    "\n",
    "image_right_eye = cv2.imread(\"right_eye.png\", cv2.IMREAD_UNCHANGED)\n",
    "image_left_eye = cv2.imread(\"left_eye.png\", cv2.IMREAD_UNCHANGED)\n",
    "image_nose = cv2.imread(\"nose.png\", cv2.IMREAD_UNCHANGED)\n",
    "\n",
    "with mp_face_detection.FaceDetection(model_selection=1, min_detection_confidence=0.99) as face_detection:\n",
    "    while cap.isOpened():\n",
    "        success, image = cap.read()\n",
    "        if not success:\n",
    "            print(\"Ignoring empty camera frame.\")\n",
    "            # If loading a video, use 'break' instead of 'continue'.\n",
    "            break\n",
    "\n",
    "        # To improve perfo+mance, optionally mark the image as not writeable to\n",
    "        # pass by reference.\n",
    "        image.flags.writeable = False\n",
    "        image = cv2.cvtColor(image, cv2.COLOR_BGR2RGB)\n",
    "        results = face_detection.process(image)\n",
    "\n",
    "        # Draw the face detection annotations on the image.\n",
    "        image.flags.writeable = True\n",
    "        image = cv2.cvtColor(image, cv2.COLOR_RGB2BGR)\n",
    "        \n",
    "        if results.detections:\n",
    "            for detection in results.detections:                \n",
    "                keypoints = detection.location_data.relative_keypoints\n",
    "                right_eye = keypoints[0]\n",
    "                left_eye = keypoints[1]\n",
    "                nose = keypoints[2]\n",
    "                \n",
    "                h, w, _ = image.shape \n",
    "                right_eye = (int(right_eye.x * w)-20, int(right_eye.y * h)-400)\n",
    "                left_eye = (int(left_eye.x * w)+20, int(left_eye.y * h)-400)\n",
    "                nose = (int(nose.x * w), int(nose.y * h))\n",
    "                \n",
    "                overlay(image, *right_eye, 100, 100, cv2.resize(image_right_eye, None, fx=2, fy= 2))\n",
    "                overlay(image, *left_eye, 100, 100, cv2.resize(image_left_eye, None, fx=2, fy= 2))\n",
    "                overlay(image, *nose, 300, 100, cv2.resize(image_nose, None, fx=2, fy= 2))\n",
    "                \n",
    "            cv2.imshow('MediaPipe Face Detection', cv2.resize(image, None, fx=0.25, fy=0.25))\n",
    "            if cv2.waitKey(5) == 27: # esc\n",
    "                break\n",
    "cap.release()\n",
    "cv2.destroyAllWindows()"
   ]
  },
  {
   "cell_type": "code",
   "execution_count": null,
   "id": "2912d1db",
   "metadata": {},
   "outputs": [],
   "source": []
  }
 ],
 "metadata": {
  "kernelspec": {
   "display_name": "Python 3 (ipykernel)",
   "language": "python",
   "name": "python3"
  },
  "language_info": {
   "codemirror_mode": {
    "name": "ipython",
    "version": 3
   },
   "file_extension": ".py",
   "mimetype": "text/x-python",
   "name": "python",
   "nbconvert_exporter": "python",
   "pygments_lexer": "ipython3",
   "version": "3.9.12"
  }
 },
 "nbformat": 4,
 "nbformat_minor": 5
}
